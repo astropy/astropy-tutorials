{
 "cells": [
  {
   "cell_type": "markdown",
   "id": "2d9a5e47",
   "metadata": {},
   "source": [
    "# Dealing with multiple Radial Velocity measurements"
   ]
  },
  {
   "cell_type": "markdown",
   "id": "80ab7d13",
   "metadata": {},
   "source": [
    "# Authors\n",
    "Alex Binks, Moritz Guenther"
   ]
  },
  {
   "cell_type": "markdown",
   "id": "a10bd8da",
   "metadata": {},
   "source": [
    "# Learning goals\n",
    "- Input/Output: Read an ascii file of tabulated data and output a results file using [astropy.io.ascii](https://docs.astropy.org/en/stable/io/ascii/index.html).\n",
    "- Coding: Produce reusable codes with functions. Apply matrix operations using numpy.\n",
    "- Science: Learn how to detect stars as components of multiple stellar systems through radial velocity (RV) variations and measure error-weighted RVs.\n",
    "- Visualisation: Plot histograms using matplotlib."
   ]
  },
  {
   "cell_type": "markdown",
   "id": "846d3413",
   "metadata": {},
   "source": [
    "# Keywords\n",
    "radial velocity, multiple stars, astropy.io, numpy, matrix operations, error propagation"
   ]
  },
  {
   "cell_type": "markdown",
   "id": "9ef2636c",
   "metadata": {},
   "source": [
    "# Summary\n",
    "It is a common task in astronomy to calculate a final measured quantity (and error) when there are multiple individual measurements for a particular object. If the measurement errors are similar in magnitude, one might choose an error weighted average. In other cases where there are large and small error bar it may be better to simply use the quantity corresponding to the lowest error.\n",
    "\n",
    "This is often the case when dealing with radial velocities (RVs) for stars, which (as the name suggests) measures the velocity in the line-of-sight of the observer (positive value are receeding from the observer). In the era of large spectroscopic surveys such as RAVE, Gaia DR2 (soon to be DR3) and GALAH, correct RV measurements are crucial to properly interpret data for millions of stars. When combined with positions, proper motions (the angular displacement on the sky per year) and distance measurements, a full 6D spatio-kinematic map of the star can be produced. Three examples of how RV measurements can be utilised are:\n",
    "\n",
    "1. Determine membership status for candidate members of comoving clusters and groups.\n",
    "2. Traceback the orbits of stars through the Galaxy\n",
    "3. reveal the large-scale kinematic structure of the Milky Way.\n",
    "\n",
    "We also know that approximately half of all stars belong in multiple systems, and depending on their orbital properties (e.g., physical separation, eccentricity, inclination), their multiplicity status is given away by the fact that the components vary in RV, typically between 1-100 km/s. Whilst obvious temporal changes in RV are a giveaway for identifying multiples, it should be noted there is always some (usually small) probability that multiple systems evade detection because they are observed at the same orbital phase!\n",
    "\n",
    "### With this in mind, the following program:\n",
    "\n",
    "- reads in a table of RV measurements for any set of stars\n",
    "- makes a decision on whether the star is multiple or likely single\n",
    "- calculates a final RV from the individual measurements.\n",
    "\n",
    "### Some points before we begin:\n",
    "\n",
    "1. Table rows consist of a star identifier (that must be exactly the same if multiple entries are present), a reference to the source catalogue, the RV, and the RV error.\n",
    "\n",
    "2. For the cases where no RV error is calculated (tut, tut), for lack of a better method, we have assumed this error to be twice the median error bar from the whole sample of RV measurements. It is the user's discretion whether or not to include data that are missing errors (but sometimes even these measurements have intrinsic value if, say, there are no other measurements).\n",
    "\n",
    "3. The confidence placed in the reliability of each RV measurement is equal regardless of provenance.\n",
    "\n",
    "4. The physical maximum RV difference for an equal mass binary system is $\\Delta RV_{\\rm max} \\geq 437\\times\\frac{\\sqrt{M/M_{\\odot}}}{\\sqrt{a/R_{\\odot}}}$ km/s -- [Bowers & Deeming 1984](https://adswww.harvard.edu/abs/1984astr.book.....B). We discard these RV outiers from analysis when considering the multiplicity status and measuring the final RV."
   ]
  },
  {
   "cell_type": "markdown",
   "id": "458886b8",
   "metadata": {},
   "source": [
    "### Part 1: Reading in the catalogue and pre-cleaning"
   ]
  },
  {
   "cell_type": "markdown",
   "id": "32ac145f",
   "metadata": {},
   "source": [
    "Import python modules"
   ]
  },
  {
   "cell_type": "code",
   "execution_count": null,
   "id": "afe48f62",
   "metadata": {},
   "outputs": [],
   "source": [
    "from astropy.table import unique, Table\n",
    "from astropy.io import ascii\n",
    "import numpy as np\n",
    "\n",
    "from matplotlib import pylab as plt\n",
    "\n",
    "np.set_printoptions(precision=3, suppress=True)\n",
    "\n",
    "%matplotlib inline"
   ]
  },
  {
   "cell_type": "markdown",
   "id": "1ad9f2af",
   "metadata": {},
   "source": [
    "Read in the input file\n",
    "The minimum requirement is;\n",
    "- name\n",
    "- RV\n",
    "- eRV\n",
    "- reference\n",
    "\n",
    "Currently the following line would read in a basic ascii (space-separated)\n",
    "file, but \"ascii.read\" can take all kinds of formats, which are described\n",
    "in: https://docs.astropy.org/en/stable/io/ascii/read.html\n"
   ]
  },
  {
   "cell_type": "code",
   "execution_count": null,
   "id": "a9f2d11d",
   "metadata": {},
   "outputs": [],
   "source": [
    "f_in = ascii.read(\"AllRVs.dat\", format='basic', delimiter=' ', guess=False)"
   ]
  },
  {
   "cell_type": "code",
   "execution_count": null,
   "id": "dcccb174",
   "metadata": {},
   "outputs": [],
   "source": [
    "f_in"
   ]
  },
  {
   "cell_type": "markdown",
   "id": "76db5bcf",
   "metadata": {},
   "source": [
    "Locate the indices for measurements without RV errors. "
   ]
  },
  {
   "cell_type": "code",
   "execution_count": null,
   "id": "d96354ff",
   "metadata": {},
   "outputs": [],
   "source": [
    "ind = f_in['eRV'] < -99"
   ]
  },
  {
   "cell_type": "code",
   "execution_count": null,
   "id": "f2541ec4",
   "metadata": {},
   "outputs": [],
   "source": [
    "ind.sum()"
   ]
  },
  {
   "cell_type": "code",
   "execution_count": null,
   "id": "f941dc1e",
   "metadata": {},
   "outputs": [],
   "source": [
    "f_in[ind]"
   ]
  },
  {
   "cell_type": "markdown",
   "id": "42c598d8",
   "metadata": {},
   "source": [
    "In case of missing errors, use 2x the median error from all observations. In our example missing errors are marked as \"-999\". Please modify this line to make sense of your own dataset."
   ]
  },
  {
   "cell_type": "code",
   "execution_count": null,
   "id": "cce51c93",
   "metadata": {},
   "outputs": [],
   "source": [
    "f_in[\"eRV\"][f_in[\"eRV\"] < -99] = 2.0 * np.median(f_in[\"eRV\"][~ind])"
   ]
  },
  {
   "cell_type": "code",
   "execution_count": null,
   "id": "9f04f2cb",
   "metadata": {},
   "outputs": [],
   "source": [
    "f_in"
   ]
  },
  {
   "cell_type": "markdown",
   "id": "8c8ec938",
   "metadata": {},
   "source": [
    "The maximum possible RV difference between two observations, $\\Delta RV_{\\rm max}$ was given earlier (point 4). One may wish to include columns in their input table of estimated mass and radius. In our case we are dealing mainly with  early K-type pre-main sequence stars: mass = $0.8M_{\\odot}$ and radius = $0.7R_{\\odot}$.\n"
   ]
  },
  {
   "cell_type": "code",
   "execution_count": null,
   "id": "503b7eff",
   "metadata": {},
   "outputs": [],
   "source": [
    "mass, radius = 0.8, 0.7\n",
    "d_max = 437.*np.sqrt(mass)/np.sqrt(radius)"
   ]
  },
  {
   "cell_type": "markdown",
   "id": "8b10711a",
   "metadata": {},
   "source": [
    "Now we want to measure the differences in RV between each measurement to test for multiplicity. The condition is set as follows:\n",
    "\n",
    "$\\Delta RV > \\zeta\\times (\\sigma_{RV_{1}} + \\sigma_{RV_{2}})$, where $\\zeta = 3.0$ (but this can be altered).\n",
    "\n",
    "In practice, this is done with a function called \"test_mult\".\n",
    "\n",
    "First we create a square matrix of RV measurements where the n observations are repeated over n rows. A matrix of RV differences, $c$, is calculated by subtracting this matrix by its transpose.\n",
    "\n",
    "Next we remove any measurements that cause $\\Delta RV > \\Delta RV_{\\rm max}$ by locating their position in the numpy array (np.where) and deleting them (np.delete). Then the matrix $c$ is recalculated (without the outliers).\n",
    "\n",
    "The combined errors ($\\sigma_{RV_{1}} + \\sigma_{RV_{2}}$) are found in a similar way, where the n errors are repeated over n rows. The corresponding error matrix, $e_c$, is found by calculating the sum of the corresponding error matrix and its transpose.\n",
    "\n",
    "Since the matrix has repeating values (and zeroes along the diagonal), we extract the subset of matrix elements that have $c > 0$. If any of these elements satisfy $\\frac{c}{e_c} > \\zeta$, the star is flagged as a probable multiple, otherwise it is likely single."
   ]
  },
  {
   "cell_type": "code",
   "execution_count": null,
   "id": "5c7af073",
   "metadata": {},
   "outputs": [],
   "source": [
    "def test_mult(trv, erv):\n",
    "    c = trv[:, None] - trv[None, :]\n",
    "    ee = c > d_max\n",
    "    x = np.array(np.where(ee))[0]\n",
    "    if len(x) > 0:\n",
    "        trv = np.delete(trv, x[0], 0)\n",
    "        erv = np.delete(erv, x[0], 0)\n",
    "    c = trv[:, None] - trv[None, :]\n",
    "    ec = np.abs(erv[:, None] + erv[None, :])\n",
    "    ratio = c / ec\n",
    "    ind = (c > 0)\n",
    "    return (ratio[ind] > 3).sum(), len(ind)"
   ]
  },
  {
   "cell_type": "markdown",
   "id": "9a2ba8e0",
   "metadata": {},
   "source": [
    "Group together RV measurements by using the group_by function in astropy tables."
   ]
  },
  {
   "cell_type": "code",
   "execution_count": null,
   "id": "45f2d2a1",
   "metadata": {},
   "outputs": [],
   "source": [
    "obs_by_name = f_in.group_by('name')\n",
    "obs_by_name"
   ]
  },
  {
   "cell_type": "markdown",
   "id": "2db6a978",
   "metadata": {},
   "source": [
    "Create a results table for each unique star entry and print the multiplicity status returned from the test_mult function. Here \"n_comp\", \"n_mult\" and \"ismult\" refer to the number of observations used, the number of times a binary was flagged when comparing each measurement and the multiplicity status."
   ]
  },
  {
   "cell_type": "code",
   "execution_count": null,
   "id": "4cfeb2b3",
   "metadata": {},
   "outputs": [],
   "source": [
    "results = obs_by_name.groups.keys\n",
    "x = [test_mult(t['RV'], t['eRV']) for t in obs_by_name.groups]\n",
    "results['n_comp'] = [o[1] for o in x]\n",
    "results['n_mult'] = [o[0] for o in x]\n",
    "results['ismult'] = ['yes' if n > 0 else 'no' for n in results['n_mult']]"
   ]
  },
  {
   "cell_type": "code",
   "execution_count": null,
   "id": "dfb4ae07",
   "metadata": {},
   "outputs": [],
   "source": [
    "results"
   ]
  },
  {
   "cell_type": "markdown",
   "id": "913cfcec",
   "metadata": {},
   "source": [
    "Next, define a function named \"selectrv\" to calculate the final RV and error.\n",
    "\n",
    "Firstly, remove any stars that cause $\\Delta RV > \\Delta RV_{\\rm max}$, then measure the final RV (and error) in the following way:\n",
    "\n",
    "1. If the standard deviation in the error bars is less than the standard deviation in the measurements, then take the inverse weighted mean, using the square of the error bars as weights.\n",
    "2. Otherwise, adopt the final RV as the value corresponding to the lowest error bar.\n"
   ]
  },
  {
   "cell_type": "code",
   "execution_count": null,
   "id": "dc2d2426",
   "metadata": {},
   "outputs": [],
   "source": [
    "def selectrv(trv, erv):\n",
    "    c = trv[:, None] - trv[None, :]\n",
    "    ee = c > d_max\n",
    "    x = np.array(np.where(ee))[0]\n",
    "    if len(x) > 0:\n",
    "        trv = np.delete(trv, x[0], 0)\n",
    "        erv = np.delete(erv, x[0], 0)\n",
    "    if (trv.std() > erv.std()):\n",
    "        return np.average(trv, weights=erv**-2), np.sqrt(1./np.sum(erv**-2))\n",
    "    else:\n",
    "        return trv[np.argmin(erv)], erv[np.argmin(erv)]"
   ]
  },
  {
   "cell_type": "markdown",
   "id": "ed341809",
   "metadata": {},
   "source": [
    "Call the \"selectrv\" function for each set of RV observations and print to the results table."
   ]
  },
  {
   "cell_type": "code",
   "execution_count": null,
   "id": "ccb120a3",
   "metadata": {},
   "outputs": [],
   "source": [
    "out = [selectrv(t['RV'], t['eRV']) for t in obs_by_name.groups]\n",
    "results['RV'] = [o[0] for o in out]\n",
    "results['eRV'] = [o[1] for o in out]"
   ]
  },
  {
   "cell_type": "markdown",
   "id": "5cdf836d",
   "metadata": {},
   "source": [
    "Format the results table so there are a sensible number of significant figures for the RV and eRV columns."
   ]
  },
  {
   "cell_type": "code",
   "execution_count": null,
   "id": "2e633f9b",
   "metadata": {},
   "outputs": [],
   "source": [
    "results['RV'].format = '{:.2f}'\n",
    "results['eRV'].format = '{:.2f}'\n",
    "results[0:9]"
   ]
  },
  {
   "cell_type": "code",
   "execution_count": null,
   "id": "7897e589",
   "metadata": {},
   "outputs": [],
   "source": [
    "plt.hist(results['RV'], bins=np.arange(-1000,1000,5))\n",
    "plt.show()"
   ]
  }
 ],
 "metadata": {
  "language_info": {
   "codemirror_mode": {
    "name": "ipython",
    "version": 3
   },
   "file_extension": ".py",
   "mimetype": "text/x-python",
   "name": "python",
   "nbconvert_exporter": "python",
   "pygments_lexer": "ipython3"
  }
 },
 "nbformat": 4,
 "nbformat_minor": 5
}
