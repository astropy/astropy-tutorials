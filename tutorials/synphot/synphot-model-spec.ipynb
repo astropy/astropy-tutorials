{
 "cells": [
  {
   "cell_type": "markdown",
   "metadata": {},
   "source": [
    "# <tt>synphot</tt>: Predicting count rates with ground-based and space-based telescopes"
   ]
  },
  {
   "cell_type": "markdown",
   "metadata": {},
   "source": [
    "## Authors\n",
    "Tiffany Jansen, Brett Morris, Pey Lian Lim, & Erik Tollerud"
   ]
  },
  {
   "cell_type": "markdown",
   "metadata": {},
   "source": [
    "## Objectives\n",
    "<ul>\n",
    "<li>Query data directly from other websites using <code>astropy.coordinates.Skycoord</code>, <code>astroquery.Gaia</code>, <code>astropy.io</code>, and <code>astropy.utils</code></li>\n",
    "<li>Construct a source spectrum from a model spectrum using <code>synphot.SourceSpectrum</code></li>\n",
    "<li>Simulate bandpass throughput with <code>synphot.SpectralElement</code></li>\n",
    "<li>Model effects on the source spectrum such as atmospheric transmission and quantum efficiency with <code>synphot.SpectralElement</code></li>\n",
    "<li>Combine all of these effects into a simulated observation with <code>synphot.Observation</code></li>\n",
    "<li>Compute the expected count rate from this observation with <code>synphot</code>'s <code>countrate()</code> function\n",
    "</ul>"
   ]
  },
  {
   "cell_type": "markdown",
   "metadata": {},
   "source": [
    "## Keywords\n",
    "synphot, synthetic photometry, astropy, astroquery, astronomy"
   ]
  },
  {
   "cell_type": "markdown",
   "metadata": {},
   "source": [
    "## Summary\n",
    "<a href=\"https://synphot.readthedocs.io/en/latest/#\" target=\"_blank\"><tt>synphot</tt></a> is an astropy-affiliated package for creating synthetic photometry in Python. In this tutorial we will show how to predict the total counts expected to be measured by both a ground-based telescope and a space-based telescope using model spectra. Specifically, we will:\n",
    "<ol>\n",
    "<li><a href=\"#query_properties\">Query the properties of a target star</a></li>\n",
    "<li><a href=\"#phoenix\">Download model spectra from PHOENIX</a></li>\n",
    "<li><a href=\"#source_spectrum\">Construct a source spectrum</a></li>\n",
    "<li><a href=\"#bandpass\">Create the bandpass of observation</a></li>\n",
    "<li><a href=\"#atmosphere\">Model attenuation by the atmosphere</a></li>\n",
    "<li><a href=\"#qe\">Model the effect of the CCD's quantum efficiency</a></li>\n",
    "<li><a href=\"#observation\">Combine all of the effects and \"observe\"</a></li>\n",
    "<li><a href=\"#counts\">Compute the count rate and total counts</a></li>\n",
    "<li><a href=\"#trappist1\">Look at another example, this time with TRAPPIST-1</a></li>\n",
    "<li><a href=\"#kepler\">Simulate observations with a space-based telescope</a></li>\n",
    "<li><a href=\"#compare\">Compare <tt>synphot</tt> counts to observed counts</a></li>\n",
    "</ol>"
   ]
  },
  {
   "cell_type": "code",
   "execution_count": 171,
   "metadata": {},
   "outputs": [],
   "source": [
    "%matplotlib inline\n",
    "import matplotlib.pyplot as plt\n",
    "import numpy as np\n",
    "\n",
    "import astropy.units as u\n",
    "from astropy.coordinates import SkyCoord\n",
    "from astropy.io import fits\n",
    "from astropy.utils.data import download_file\n",
    "\n",
    "from astroquery.gaia import Gaia\n",
    "\n",
    "from synphot import units\n",
    "from synphot.spectrum import SourceSpectrum, SpectralElement\n",
    "from synphot.models import Empirical1D\n",
    "from synphot.observation import Observation\n",
    "\n",
    "# LOCAL\n",
    "import skymodel\n",
    "\n",
    "# the following is just to silence nonintegral warnings\n",
    "import warnings\n",
    "\n",
    "def fxn():\n",
    "    warnings.warn(\"deprecated\", DeprecationWarning)\n",
    "    warnings.filterwarnings(\"ignore\", module='astropy.io.votable.tree')\n",
    "\n",
    "with warnings.catch_warnings():\n",
    "    warnings.simplefilter(\"ignore\")\n",
    "    fxn()"
   ]
  },
  {
   "cell_type": "markdown",
   "metadata": {},
   "source": [
    "<a id='query_properties'></a>\n",
    "## 1. Query the properties of HAT-P-11"
   ]
  },
  {
   "cell_type": "markdown",
   "metadata": {},
   "source": [
    "In this tutorial we will use a couple of example stars, the first being <a href=\"https://en.wikipedia.org/wiki/HAT-P-11\" target=\"_blank\">HAT-P-11</a>. In order to model its spectrum with PHOENIX, we will need to get some of HAT-P-11's  parameters, which we can do using <tt>astroquery</tt>'s <a href=\"https://astroquery.readthedocs.io/en/latest/gaia/gaia.html\">Gaia query</a> and astropy's <a href=\"https://docs.astropy.org/en/stable/api/astropy.coordinates.SkyCoord.html\"><tt>SkyCoord</tt></a>: "
   ]
  },
  {
   "cell_type": "code",
   "execution_count": 172,
   "metadata": {},
   "outputs": [
    {
     "name": "stdout",
     "output_type": "stream",
     "text": [
      "Query finished.\n"
     ]
    }
   ],
   "source": [
    "ID = 'HAT-P-11'\n",
    "\n",
    "coord = SkyCoord.from_name(ID)\n",
    "# width / height of search:\n",
    "width = u.Quantity(1, u.arcmin)\n",
    "height = u.Quantity(1, u.arcmin)\n",
    "\n",
    "search_results = Gaia.query_object_async(coordinate=coord, width=width, height=height)\n",
    "# the queried star should be the one nearest to the given coordinates\n",
    "search_results.add_index('dist', unique=True)\n",
    "hatp11_info = search_results.loc['dist', min(search_results['dist'])]\n",
    "\n",
    "stellar_radius = hatp11_info['radius_val'] * u.R_sun\n",
    "# divide 1 AU by parallax (arcseconds) to get distance in parsecs.\n",
    "# parallax is given in milliarcseconds, so multiply by 1000: \n",
    "distance = (1 / (hatp11_info['parallax']) * 1000) * u.pc\n",
    "T_eff = hatp11_info['teff_val'] * u.K"
   ]
  },
  {
   "cell_type": "code",
   "execution_count": 173,
   "metadata": {},
   "outputs": [
    {
     "name": "stdout",
     "output_type": "stream",
     "text": [
      "Temperature of HAT-P-11 = 4757.26708984375 K\n",
      "Distance to HAT-P-11 = 37.80607118315159 pc\n"
     ]
    }
   ],
   "source": [
    "print(\"Temperature of HAT-P-11 =\", T_eff)\n",
    "print(\"Distance to HAT-P-11 =\", distance)"
   ]
  },
  {
   "cell_type": "markdown",
   "metadata": {},
   "source": [
    "<a id=\"phoenix\"></a>\n",
    "## 2. Download a PHOENIX model spectrum for HAT-P-11"
   ]
  },
  {
   "cell_type": "markdown",
   "metadata": {},
   "source": [
    "We will model the spectrum of HAT-P-11 with a <a href=\"https://arxiv.org/abs/1303.5632\" target=\"_blank\">PHOENIX</a> stellar atmosphere model, which we can obtain by specifying a stellar temperature and querying from the <a href=\"http://phoenix.astro.physik.uni-goettingen.de/\" target=\"_blank\">Gottingen Spectral Library</a>:"
   ]
  },
  {
   "cell_type": "code",
   "execution_count": 174,
   "metadata": {},
   "outputs": [],
   "source": [
    "T_eff = round(T_eff.value, -2)  # round to nearest 100 K\n",
    "\n",
    "flux_url = ('ftp://phoenix.astro.physik.uni-goettingen.de/v2.0/HiResFITS/'\n",
    "       'PHOENIX-ACES-AGSS-COND-2011/Z-0.0/lte{T_eff:05d}-{log_g:1.2f}-0.0.PHOENIX-'\n",
    "       'ACES-AGSS-COND-2011-HiRes.fits').format(T_eff=int(T_eff), log_g=4.5)\n",
    "wavelength_url = ('ftp://phoenix.astro.physik.uni-goettingen.de/v2.0/HiResFITS/'\n",
    "                  'WAVE_PHOENIX-ACES-AGSS-COND-2011.fits')\n",
    "\n",
    "flux = fits.getdata(flux_url)\n",
    "wavelengths = fits.getdata(wavelength_url)"
   ]
  },
  {
   "cell_type": "markdown",
   "metadata": {},
   "source": [
    "It is good practice (and for some packages, essential) to attach units to quantities so that you can be sure the final results are scaled correctly. The units we use here are specified by the PHOENIX models."
   ]
  },
  {
   "cell_type": "code",
   "execution_count": 175,
   "metadata": {},
   "outputs": [],
   "source": [
    "flux = flux * (u.erg / u.s / u.cm ** 2 / u.cm) \n",
    "wavelengths = wavelengths * u.Angstrom"
   ]
  },
  {
   "cell_type": "markdown",
   "metadata": {},
   "source": [
    "<a id=\"source_spectrum\"></a>\n",
    "## 3. Construct a <tt>synphot</tt> source spectrum object"
   ]
  },
  {
   "cell_type": "markdown",
   "metadata": {},
   "source": [
    "To do synthetic photometry with synphot, you must first make an object out of your target's spectrum with <a href=\"https://synphot.readthedocs.io/en/latest/synphot/spectrum.html#arrays\"><tt>synphot.spectrum.SourceSpectrum</tt></a>. Since we are constructing the source spectrum from arrays of data, we specify that the model type is Empirical1D and pass in the arrays (e.g. <code>points=wavelengths</code> and <code>lookup_table=flux</code>): "
   ]
  },
  {
   "cell_type": "code",
   "execution_count": 176,
   "metadata": {},
   "outputs": [],
   "source": [
    "photlam_hatp11 = SourceSpectrum(Empirical1D,\n",
    "                                points=wavelengths, lookup_table=flux)\n",
    "\n",
    "# Scale the flux to get the value at Earth\n",
    "photlam_hatp11 = photlam_hatp11 * float(stellar_radius / distance) ** 2 / np.pi"
   ]
  },
  {
   "cell_type": "markdown",
   "metadata": {},
   "source": [
    "<tt>SourceSpectrum</tt> objects come with a useful <a href=\"https://synphot.readthedocs.io/en/latest/api/synphot.spectrum.SourceSpectrum.html#synphot.spectrum.SourceSpectrum.plot\" target=\"_blank\">plotting method</a> for easy viewing of the spectrum: "
   ]
  },
  {
   "cell_type": "code",
   "execution_count": 177,
   "metadata": {},
   "outputs": [
    {
     "data": {
      "image/png": "[encoded data removed]",
      "text/plain": [
       "<Figure size 432x288 with 1 Axes>"
      ]
     },
     "metadata": {
      "needs_background": "light"
     },
     "output_type": "display_data"
    }
   ],
   "source": [
    "photlam_hatp11.plot(flux_unit='Jy', left=0, right=60000)"
   ]
  },
  {
   "cell_type": "markdown",
   "metadata": {},
   "source": [
    "(for other methods of constructing source spectra with <tt>synphot</tt>, see the first bulleted list <a href=\"https://synphot.readthedocs.io/en/latest/synphot/spectrum.html#arrays\">here</a>) "
   ]
  },
  {
   "cell_type": "markdown",
   "metadata": {},
   "source": [
    "<a id=\"bandpass\"></a>\n",
    "## Now we will simulate the observation with a specific instrument"
   ]
  },
  {
   "cell_type": "markdown",
   "metadata": {},
   "source": [
    "<p>Let's observe HAT-P-11 with the <a href=\"https://www.apo.nmsu.edu/arc35m/Instruments/ARCTIC/\">ARCTIC instrument</a> on APO's 3.5m telescope, which has the following specs:"
   ]
  },
  {
   "cell_type": "code",
   "execution_count": 178,
   "metadata": {},
   "outputs": [],
   "source": [
    "aperture_radius = 3.5 / 2 * u.m  # radius of 3.5m ARC telescope at APO\n",
    "aperture_area = np.pi * aperture_radius ** 2\n",
    "gain = 1.9  # the gain of this detector in e-/ADU"
   ]
  },
  {
   "cell_type": "markdown",
   "metadata": {},
   "source": [
    "## 4.  Create the bandpass"
   ]
  },
  {
   "cell_type": "markdown",
   "metadata": {},
   "source": [
    "Next we want to model the effect of observing this object through a couple of bandpasses, specifically the r' and z' filters from the Sloan Digital Sky Survey (SDSS). Similar to how we made the spectral data into a synphot object, we will also need to construct bandpass objects so that the two can be easily convolved."
   ]
  },
  {
   "cell_type": "markdown",
   "metadata": {},
   "source": [
    "To obtain the filter transmission functions of the SDSS bandpasses, we use <a href=\"https://docs.astropy.org/en/stable/api/astropy.utils.data.download_file.html\" target=\"_blank\"><tt>astropy.utils.data.download_file</tt></a> to download the transmission file from the <a href=\"http://svo2.cab.inta-csic.es/theory/fps/index.php?mode=voservice\" target=\"_blank\">Spanish Virtual Observatory</a> filter database. "
   ]
  },
  {
   "cell_type": "markdown",
   "metadata": {},
   "source": [
    "To construct a bandpass from a file, use <tt>synphot.spectrum</tt>'s <tt>SpectralElement</tt> <a href=\"https://synphot.readthedocs.io/en/latest/synphot/bandpass.html#file\" target=\"_blank\">with its <tt>from_file</tt></a> method:"
   ]
  },
  {
   "cell_type": "code",
   "execution_count": 179,
   "metadata": {
    "scrolled": true
   },
   "outputs": [],
   "source": [
    "sdss = ['rprime', 'zprime']  # only want r' and z' bands for now\n",
    "svo_link = ('http://svo2.cab.inta-csic.es/' +\n",
    "           'theory/fps3/fps.php?ID=')\n",
    "\n",
    "bandpasses = {}\n",
    "for band in sdss:\n",
    "    filt_path = download_file(svo_link + 'SLOAN/SDSS.' + band + '_filter')\n",
    "    bandpasses[band] = SpectralElement.from_file(filt_path)"
   ]
  },
  {
   "cell_type": "markdown",
   "metadata": {},
   "source": [
    "Like <tt>SourceSpectrum</tt> objects, <tt>SpectralElement</tt> objects also have a handy plotting method:"
   ]
  },
  {
   "cell_type": "code",
   "execution_count": 180,
   "metadata": {},
   "outputs": [
    {
     "data": {
      "image/png": "[encoded data removed]",
      "text/plain": [
       "<Figure size 432x288 with 1 Axes>"
      ]
     },
     "metadata": {
      "needs_background": "light"
     },
     "output_type": "display_data"
    }
   ],
   "source": [
    "for band in sdss:\n",
    "    waves = bandpasses[band].waveset\n",
    "    plt.plot(waves, bandpasses[band](waves), label=band)\n",
    "    \n",
    "plt.legend(loc='lower right')\n",
    "plt.xlim(3000, 14000)\n",
    "plt.show()"
   ]
  },
  {
   "cell_type": "markdown",
   "metadata": {},
   "source": [
    "For other methods of building bandpasses (either from a model or from one of <tt>synphot</tt>'s given bandpasses), <a href=\"https://synphot.readthedocs.io/en/latest/synphot/bandpass.html\" target=\"_blank\">see here</a>."
   ]
  },
  {
   "cell_type": "markdown",
   "metadata": {},
   "source": [
    "<a id=\"atmosphere\"></a>\n",
    "## 5. Model the attenuation by the atmosphere"
   ]
  },
  {
   "cell_type": "markdown",
   "metadata": {},
   "source": [
    "<tt>SpectralElement</tt> can also be used to model other effects on the observation, such as atmospheric transmittance or a CCD's response function. Here we will model the atmospheric transmittance using the local script <tt>skymodel.py</tt>, which queries results from the <a href=\"http://etimecalret-001.eso.org/observing/etc/bin/gen/form?INS.MODE=swspectr+INS.NAME=SKYCALC\">SkyCalc Sky Model Calculator</a> (the default location is the Paranal Observatory, which is similar in climate to APO):"
   ]
  },
  {
   "cell_type": "code",
   "execution_count": 181,
   "metadata": {},
   "outputs": [
    {
     "data": {
      "image/png": "[encoded data removed]",
      "text/plain": [
       "<Figure size 432x288 with 1 Axes>"
      ]
     },
     "metadata": {
      "needs_background": "light"
     },
     "output_type": "display_data"
    }
   ],
   "source": [
    "trans_waves, transmission = skymodel.get_atmospheric_transmittance(airmass=1.5)\n",
    "\n",
    "atmosphere = SpectralElement(Empirical1D,\n",
    "                             points=trans_waves,\n",
    "                             lookup_table=transmission)\n",
    "atmosphere.plot()"
   ]
  },
  {
   "cell_type": "markdown",
   "metadata": {},
   "source": [
    "<a id=\"qe\"></a>\n",
    "## 6. Model the effect of the CCD's quantum efficiency"
   ]
  },
  {
   "cell_type": "markdown",
   "metadata": {},
   "source": [
    "For this we use the values in the table found in section 3.5 on <a href=\"https://www.apo.nmsu.edu/arc35m/Instruments/ARCTIC/#3p5\">this page</a> of the instrument's website, which we've saved into the local file ccd_QE.csv. Because the wavelength units are not the same as <tt>synphot's</tt> default unit of Angstroms, we have to specify the units with the <tt>wave_unit</tt> keyword."
   ]
  },
  {
   "cell_type": "code",
   "execution_count": 182,
   "metadata": {},
   "outputs": [
    {
     "data": {
      "image/png": "[encoded data removed]",
      "text/plain": [
       "<Figure size 432x288 with 1 Axes>"
      ]
     },
     "metadata": {
      "needs_background": "light"
     },
     "output_type": "display_data"
    }
   ],
   "source": [
    "quantum_efficiency = SpectralElement.from_file('ccd_QE.csv', wave_unit=\"nm\")\n",
    "quantum_efficiency = quantum_efficiency / 100  # convert percentages to fractions\n",
    "\n",
    "quantum_efficiency.plot(left=3000, right=14000)"
   ]
  },
  {
   "cell_type": "markdown",
   "metadata": {},
   "source": [
    "<a id=\"observation\"></a>\n",
    "## 7. Combine all of the effects and \"observe\""
   ]
  },
  {
   "cell_type": "markdown",
   "metadata": {},
   "source": [
    "Once we have all of the effects on the source spectrum set, we can combine them (i.e. convolve them) by simply multiplying the <tt>SpectralElement</tt> objects together:"
   ]
  },
  {
   "cell_type": "code",
   "execution_count": 183,
   "metadata": {},
   "outputs": [
    {
     "data": {
      "image/png": "[encoded data removed]",
      "text/plain": [
       "<Figure size 432x288 with 1 Axes>"
      ]
     },
     "metadata": {
      "needs_background": "light"
     },
     "output_type": "display_data"
    }
   ],
   "source": [
    "bp_atmos_qe = {}  # for the combined bandpass, atmosphere, and quantum efficiency element\n",
    "for band in sdss:\n",
    "    bp_atmos_qe[band] = bandpasses[band] * atmosphere * quantum_efficiency\n",
    "    \n",
    "bp_atmos_qe['rprime'].plot(left=3000, right=14000)"
   ]
  },
  {
   "cell_type": "markdown",
   "metadata": {},
   "source": [
    "Finally, we convolve the source spectrum with all of these effects using <tt>synphot.observation</tt>'s <a href=\"https://synphot.readthedocs.io/en/latest/synphot/observation.html\"><tt>Observation</tt></a>:"
   ]
  },
  {
   "cell_type": "code",
   "execution_count": 184,
   "metadata": {},
   "outputs": [
    {
     "data": {
      "image/png": "[encoded data removed]",
      "text/plain": [
       "<Figure size 432x288 with 1 Axes>"
      ]
     },
     "metadata": {
      "needs_background": "light"
     },
     "output_type": "display_data"
    }
   ],
   "source": [
    "band = 'rprime'  # only want to know about the r' band for this star\n",
    "\n",
    "observation = Observation(photlam_hatp11, bp_atmos_qe[band])\n",
    "observation.plot()"
   ]
  },
  {
   "cell_type": "markdown",
   "metadata": {},
   "source": [
    "<a id=\"counts\"></a>\n",
    "## 8. Compute the count rate and total counts"
   ]
  },
  {
   "cell_type": "markdown",
   "metadata": {},
   "source": [
    "To get the expected count rate for a specific collecting area, use the <a href=\"https://synphot.readthedocs.io/en/latest/api/synphot.observation.Observation.html#synphot.observation.Observation.countrate\"><tt>countrate()</tt></a> method on the observation object. If you wish to compare <tt>synphot</tt> counts to measured counts (as we will do at the end of the tutorial), you may have to divide the predicted count rate by your instrument's gain depending on how the instruments defines its counts."
   ]
  },
  {
   "cell_type": "code",
   "execution_count": 185,
   "metadata": {},
   "outputs": [
    {
     "data": {
      "text/latex": [
       "$3835363.9 \\; \\mathrm{\\frac{ct}{s}}$"
      ],
      "text/plain": [
       "<Quantity 3835363.89184525 ct / s>"
      ]
     },
     "execution_count": 185,
     "metadata": {},
     "output_type": "execute_result"
    }
   ],
   "source": [
    "countrate = observation.countrate(area=aperture_area) / gain\n",
    "countrate"
   ]
  },
  {
   "cell_type": "markdown",
   "metadata": {},
   "source": [
    "How many counts can we expect in a 10s exposure?"
   ]
  },
  {
   "cell_type": "code",
   "execution_count": 186,
   "metadata": {},
   "outputs": [
    {
     "name": "stdout",
     "output_type": "stream",
     "text": [
      "HAT-P-11 counts in the r-band, 10 s exposure:\n",
      "38353638 cts\n"
     ]
    }
   ],
   "source": [
    "exptime = 10 * u.s\n",
    "apo_counts_hatp11 = countrate * exptime\n",
    "\n",
    "print(\"HAT-P-11 counts in the r-band, 10 s exposure:\")\n",
    "print(int(apo_counts_hatp11.value), \"cts\")"
   ]
  },
  {
   "cell_type": "markdown",
   "metadata": {},
   "source": [
    "<a id=\"trappist1\"></a>\n",
    "## 9. Another example, this time observing <a href=\"https://en.wikipedia.org/wiki/TRAPPIST-1\">TRAPPIST-1</a>"
   ]
  },
  {
   "cell_type": "markdown",
   "metadata": {
    "collapsed": true
   },
   "source": [
    "(using the same instrument and telescope)"
   ]
  },
  {
   "cell_type": "code",
   "execution_count": 187,
   "metadata": {},
   "outputs": [],
   "source": [
    "T_eff = 2600  # approx temperature of trappist-1 [K], Gillon 2017\n",
    "\n",
    "flux_url = ('ftp://phoenix.astro.physik.uni-goettingen.de/v2.0/HiResFITS/'\n",
    "       'PHOENIX-ACES-AGSS-COND-2011/Z-0.0/lte{T_eff:05d}-{log_g:1.2f}-0.0.PHOENIX-'\n",
    "       'ACES-AGSS-COND-2011-HiRes.fits').format(T_eff=T_eff, log_g=4.5)\n",
    "wavelength_url = ('ftp://phoenix.astro.physik.uni-goettingen.de/v2.0/HiResFITS/'\n",
    "                  'WAVE_PHOENIX-ACES-AGSS-COND-2011.fits')\n",
    "\n",
    "flux = fits.getdata(flux_url) * (u.erg / u.s / u.cm ** 2 / u.cm)\n",
    "wavelengths = fits.getdata(wavelength_url) * u.Angstrom"
   ]
  },
  {
   "cell_type": "markdown",
   "metadata": {},
   "source": [
    "Unfortunately Gaia does not have all the parameters we need for TRAPPIST-1, so we use the values cited in <a href=\"https://arxiv.org/pdf/1703.01424.pdf\">Gillon 2017</a>:"
   ]
  },
  {
   "cell_type": "code",
   "execution_count": 188,
   "metadata": {
    "scrolled": true
   },
   "outputs": [
    {
     "data": {
      "image/png": "[encoded data removed]",
      "text/plain": [
       "<Figure size 432x288 with 1 Axes>"
      ]
     },
     "metadata": {
      "needs_background": "light"
     },
     "output_type": "display_data"
    }
   ],
   "source": [
    "photlam_trappist1 = SourceSpectrum(Empirical1D,\n",
    "                                points=wavelengths, lookup_table=flux)\n",
    "\n",
    "# Scale the flux to get the value at Earth\n",
    "stellar_radius = 0.117 * u.R_sun  # radius of trappist-1 in solar units\n",
    "distance = 12.1 * u.pc  # distance to trappist-1 in parsecs\n",
    "photlam_trappist1 = photlam_trappist1 * float(stellar_radius / distance) ** 2 / np.pi\n",
    "\n",
    "photlam_trappist1.plot(flux_unit='Jy', left=0, right=60000)"
   ]
  },
  {
   "cell_type": "markdown",
   "metadata": {},
   "source": [
    "This time I just want to know about observations in the SDSS z'-band. Since we have already constructed the <tt>SpectralElement</tt> for the combined effects of the bandpass, atmosphere, and CCD of this instrument (<tt>bp_atmos_qe</tt>), simulating the observation is as simple as referencing that <tt>SpectralElement</tt> for the band of interest:"
   ]
  },
  {
   "cell_type": "code",
   "execution_count": 189,
   "metadata": {},
   "outputs": [],
   "source": [
    "band = 'zprime'\n",
    "\n",
    "observation = Observation(photlam_trappist1, bp_atmos_qe[band])"
   ]
  },
  {
   "cell_type": "markdown",
   "metadata": {},
   "source": [
    "How many counts can we expect to measure in a 10s exposure of TRAPPIST-1 with APO's ARCTIC?"
   ]
  },
  {
   "cell_type": "code",
   "execution_count": 190,
   "metadata": {},
   "outputs": [
    {
     "name": "stdout",
     "output_type": "stream",
     "text": [
      "TRAPPIST-1 counts in the z-band, 10 s exposure:\n",
      "\t 306750 cts\n"
     ]
    }
   ],
   "source": [
    "countrate = observation.countrate(area=aperture_area) / gain\n",
    "apo_counts_trappist1 = countrate * 10 * u.s\n",
    "\n",
    "print(\"TRAPPIST-1 counts in the z-band, 10 s exposure:\")\n",
    "print('\\t', int(apo_counts_trappist1.value), \"cts\")"
   ]
  },
  {
   "cell_type": "markdown",
   "metadata": {},
   "source": [
    "<a id=\"kepler\"></a>\n",
    "## 10. Predicting photon counts of the same stars, this time observed by a space-based telescope"
   ]
  },
  {
   "cell_type": "markdown",
   "metadata": {},
   "source": [
    "In this example we will use <a href=\"https://en.wikipedia.org/wiki/Kepler_space_telescope\">Kepler</a> as our space telescope.\n",
    "\n",
    "First we will need to know Kepler's response function, which we can obtain from SVO (this response function includes both the bandpass and the quantum efficiency of the CCD):"
   ]
  },
  {
   "cell_type": "code",
   "execution_count": 191,
   "metadata": {},
   "outputs": [
    {
     "data": {
      "image/png": "[encoded data removed]",
      "text/plain": [
       "<Figure size 432x288 with 1 Axes>"
      ]
     },
     "metadata": {
      "needs_background": "light"
     },
     "output_type": "display_data"
    }
   ],
   "source": [
    "filt_path = download_file(svo_link + 'Kepler/Kepler.K')\n",
    "kepler_response = SpectralElement.from_file(filt_path)\n",
    "\n",
    "kepler_response.plot()"
   ]
  },
  {
   "cell_type": "markdown",
   "metadata": {},
   "source": [
    "Create the observation object. Since Kepler is a space-based telescope, we do not need to convolve with an atmospheric transmission function:"
   ]
  },
  {
   "cell_type": "code",
   "execution_count": 192,
   "metadata": {},
   "outputs": [],
   "source": [
    "# here I choose to organize the observations in a dictionary,\n",
    "# but you can do whatever works best for you\n",
    "kepler_stars = {'hatp11': {'spectrum': photlam_hatp11},\n",
    "                'trappist1': {'spectrum': photlam_trappist1}\n",
    "               }\n",
    "\n",
    "for star in kepler_stars:\n",
    "    kepler_stars[star]['observation'] = Observation(stars[star]['spectrum'], kepler_response)"
   ]
  },
  {
   "cell_type": "markdown",
   "metadata": {},
   "source": [
    "Compute the counts in a 10 second exposure for the two stars:"
   ]
  },
  {
   "cell_type": "code",
   "execution_count": 193,
   "metadata": {},
   "outputs": [
    {
     "name": "stdout",
     "output_type": "stream",
     "text": [
      "counts predicted by synphot in 10s exposure:\n",
      "\t HAT-P-11: 24.7 million\n",
      "\t TRAPPIST-1 65.0 thousand\n"
     ]
    }
   ],
   "source": [
    "kepler_area = np.pi * (1.4 * u.m / 2) ** 2  # area of Kepler's primary mirror\n",
    "\n",
    "for star in kepler_stars:\n",
    "    countrate = kepler_stars[star]['observation'].countrate(area=kepler_area)\n",
    "    kepler_stars[star]['counts'] = countrate * 10 * u.s\n",
    "    \n",
    "print('counts predicted by synphot in 10s exposure:')\n",
    "print('\\t HAT-P-11:', round(kepler_stars['hatp11']['counts'].value / 1e6, 1), 'million')\n",
    "print('\\t TRAPPIST-1', round(kepler_stars['trappist1']['counts'].value / 1e3, 1), 'thousand')"
   ]
  },
  {
   "cell_type": "markdown",
   "metadata": {},
   "source": [
    "<a id=\"compare\"></a>\n",
    "## 11. How well does <tt>synphot</tt> do?"
   ]
  },
  {
   "cell_type": "markdown",
   "metadata": {},
   "source": [
    "Let's compare the <tt>synphot</tt> counts to some measured counts to see how well <tt>synphot</tt> can perform. We know from real observations (taken with ARCTIC on APO's 3.5m telescope and with Kepler) that the actual count values for these stars are:"
   ]
  },
  {
   "cell_type": "code",
   "execution_count": 194,
   "metadata": {},
   "outputs": [],
   "source": [
    "hatp11_r_apo_meas = 34000000\n",
    "hatp11_kepler_meas = 28000000\n",
    "trappist1_z_apo_meas = 203000\n",
    "trappist1_kepler_meas = 57000"
   ]
  },
  {
   "cell_type": "markdown",
   "metadata": {},
   "source": [
    "An easy way to compare is to plot the <tt>synphot</tt> values to the observed values on a 1-1 line:"
   ]
  },
  {
   "cell_type": "code",
   "execution_count": 195,
   "metadata": {},
   "outputs": [
    {
     "data": {
      "text/plain": [
       "<matplotlib.legend.Legend at 0xb12ee5588>"
      ]
     },
     "execution_count": 195,
     "metadata": {},
     "output_type": "execute_result"
    },
    {
     "data": {
      "image/png": "[encoded data removed]",
      "text/plain": [
       "<Figure size 648x648 with 1 Axes>"
      ]
     },
     "metadata": {
      "needs_background": "light"
     },
     "output_type": "display_data"
    }
   ],
   "source": [
    "fig = plt.figure(figsize=(9, 9))\n",
    "\n",
    "plt.scatter(hatp11_r_apo_meas, apo_counts_hatp11,\n",
    "            color='b', s=100, label=\"HAT-P-11, ground\")\n",
    "plt.scatter(hatp11_kepler_meas, kepler_stars['hatp11']['counts'],\n",
    "            color='b', marker= '^', s=100, label=\"HAT-P-11, space\")\n",
    "plt.scatter(trappist1_z_apo_meas, apo_counts_trappist1,\n",
    "            color='r', s=100, label='TRAPPIST-1, ground')\n",
    "plt.scatter(trappist1_kepler_meas, kepler_stars['trappist1']['counts'],\n",
    "            color='r', marker= '^', s=100, label='TRAPPIST-1, space')\n",
    "\n",
    "# one-to-one line\n",
    "countrange = np.linspace(1e4, 1e8, 20)\n",
    "plt.plot(countrange, countrange, color='black')\n",
    "\n",
    "plt.xscale('log')\n",
    "plt.yscale('log')\n",
    "\n",
    "plt.ylabel('synphot counts', size='14')\n",
    "plt.xlabel('observed counts', size='14')\n",
    "\n",
    "plt.legend()"
   ]
  },
  {
   "cell_type": "markdown",
   "metadata": {},
   "source": [
    "What are the % errors?"
   ]
  },
  {
   "cell_type": "code",
   "execution_count": 196,
   "metadata": {},
   "outputs": [
    {
     "name": "stdout",
     "output_type": "stream",
     "text": [
      "Ground-based:\n",
      "\t HAT-P-11 in r-band: 12 %\n",
      "\t TRAPPIST-1 in z-band: 51 %\n",
      "Space-based:\n",
      "\t HAT-P-11: 11 %\n",
      "\t TRAPPIST-1 14 %\n"
     ]
    }
   ],
   "source": [
    "print('Ground-based:')\n",
    "print('\\t HAT-P-11 in r-band:',\n",
    "      int(abs(apo_counts_hatp11.value - hatp11_r_apo_meas) /\n",
    "          hatp11_r_apo_meas * 100), \"%\")\n",
    "print('\\t TRAPPIST-1 in z-band:',\n",
    "     int(abs(apo_counts_trappist1.value - trappist1_z_apo_meas) /\n",
    "          trappist1_z_apo_meas * 100), \"%\")\n",
    "print('Space-based:')\n",
    "print('\\t HAT-P-11:',\n",
    "      int(abs(kepler_stars['hatp11']['counts'].value\n",
    "              - hatp11_kepler_meas) /\n",
    "          hatp11_kepler_meas * 100), \"%\")\n",
    "print('\\t TRAPPIST-1',\n",
    "      int(abs(kepler_stars['trappist1']['counts'].value\n",
    "              - trappist1_kepler_meas) /\n",
    "          trappist1_kepler_meas * 100), \"%\")"
   ]
  },
  {
   "cell_type": "markdown",
   "metadata": {},
   "source": [
    "Not too bad!"
   ]
  }
 ],
 "metadata": {
  "anaconda-cloud": {},
  "kernelspec": {
   "display_name": "Python 3",
   "language": "python",
   "name": "python3"
  },
  "language_info": {
   "codemirror_mode": {
    "name": "ipython",
    "version": 3
   },
   "file_extension": ".py",
   "mimetype": "text/x-python",
   "name": "python",
   "nbconvert_exporter": "python",
   "pygments_lexer": "ipython3",
   "version": "3.7.1"
  }
 },
 "nbformat": 4,
 "nbformat_minor": 1
}
