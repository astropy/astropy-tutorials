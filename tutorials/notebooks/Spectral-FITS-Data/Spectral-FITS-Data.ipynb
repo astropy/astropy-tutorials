{
 "cells": [
  {
   "cell_type": "markdown",
   "metadata": {},
   "source": [
    "# Working with FITS Tables and Images for Spectral Data"
   ]
  },
  {
   "cell_type": "markdown",
   "metadata": {},
   "source": [
    "## Author\n",
    "[Dhanesh Krishnarao (DK)](http://www.astronomy.dk)\n",
    "\n",
    "## Learning Goals\n",
    "* Find interesting source coordinates using `astroquery`\n",
    "* Read and plot a FITS image and overplot source points using `wcsaxes`\n",
    "* Read spectral data from a FITS table\n",
    "* match queried coordinates to observations in a FITS table\n",
    "* Write out a new FITS table with newly calculated entries\n",
    "\n",
    "## Keywords\n",
    "FITS-files, FITS-images, FITS-tables, astroquery, coordinates, units, spectroscopy\n",
    "\n",
    "In the tutorial we will read and write FITS tables, read and a visualize 2D FITS image, find sources using astroquery, match coordinates, and convert observational data to different units by making some assumptions. \n",
    "\n",
    "This tutorial will walk you through a simple analysis of ionized gas observed towards some high energy sources, calculating some column densities of diffuse HII gas from spectroscopic observations of H-Alpha emssion. The analysis will be saved as a FITS table. \n",
    "\n",
    "The primary libraries we will be using are: [astroquery](http://www.astropy.org/astroquery/), [matplotlib](https://matplotlib.org/), [specutils](https://specutils.readthedocs.io/en/latest/)\n",
    "\n",
    "They can be installed using conda:\n",
    "- `conda install -c astropy astroquery`\n",
    "- `conda install -c astropy specutils`\n",
    "\n",
    "Alternatively, if you don't use conda, you can use pip."
   ]
  },
  {
   "cell_type": "code",
   "execution_count": null,
   "metadata": {
    "collapsed": true
   },
   "outputs": [],
   "source": [
    "import numpy as np\n",
    "\n",
    "import matplotlib.pyplot as plt\n",
    "from matplotlib.colors import LogNorm\n",
    "\n",
    "from astropy import units as u\n",
    "from astropy.coordinates import SkyCoord\n",
    "from astropy.utils.data import download_file\n",
    "from astropy.wcs import WCS\n",
    "from astropy.io import fits\n",
    "from astropy.table import Table\n",
    "from astropy.nddata import StdDevUncertainty\n",
    "from astropy.visualization.wcsaxes.frame import EllipticalFrame\n",
    "from astropy.constants import Ryd\n",
    "\n",
    "from astroquery.vizier import Vizier\n",
    "\n",
    "from specutils import Spectrum1D\n",
    "\n",
    "%matplotlib inline\n",
    "\n",
    "# Set tutorial path for data files\n",
    "tutorial_path = ''"
   ]
  },
  {
   "cell_type": "markdown",
   "metadata": {},
   "source": [
    "# Find HII regions\n",
    "\n",
    "We will be looking for known HII regions in the Milky Way from the WISE catalog of HII regions [(Anderson+, 2014)](http://adsabs.harvard.edu/abs/2014ApJS..212....1A). We want to look at observed H-Alpha spectra from the [WHAM Sky Survey]{http://www.astro.wisc.edu/wham-site/wham-sky-survey/wham-ss} and estimate some column densities of ionized gas along the line of sight towards these HII regions. \n",
    "\n",
    "The WISE HII region catalog is available on vizier under the name [J/ApJS/212/1/wisecat](http://vizier.cfa.harvard.edu/viz-bin/VizieR-3?-source=J/ApJS/212/1/wisecat). We can use astroquery to peek at this catalog, and query based on our requirements. \n",
    "\n",
    "## Use astroquery to retrieve a list of HII regions with relevant information"
   ]
  },
  {
   "cell_type": "code",
   "execution_count": null,
   "metadata": {
    "collapsed": true
   },
   "outputs": [],
   "source": [
    "catalog_name = 'J/ApJS/212/1/wisecat'\n",
    "\n",
    "#Query the catalog and get a sample look to see what information we can see\n",
    "catalog_sample_list = Vizier.get_catalogs(catalog = catalog_name)\n",
    "\n",
    "print(catalog_sample_list)"
   ]
  },
  {
   "cell_type": "markdown",
   "metadata": {},
   "source": [
    "`catalog_sample_list` is now an astropy TableList, containing just 1 table corresponding to the WISE catalog. It appears to have 16 columns of infomration. We can view this sample astropy Table by selecting it from the TableList"
   ]
  },
  {
   "cell_type": "code",
   "execution_count": null,
   "metadata": {
    "collapsed": true
   },
   "outputs": [],
   "source": [
    "catalog_sample = catalog_sample_list[0]\n",
    "\n",
    "catalog_sample"
   ]
  },
  {
   "cell_type": "markdown",
   "metadata": {},
   "source": [
    "Some useful columns for us are going to Cl, which tells us some classification information about the source, GLON and GLAT, the Galactic Coordinates of the source, and Dist, the distance to the HII region if known. \n",
    "\n",
    "For this exercise, we only want sources that have a distance estimate provided and will limit ourselves to soures that are known HII regions (Cl = 'K'). Details of what these columns mean can be found on the [VizieR catalog website](http://vizier.cfa.harvard.edu/viz-bin/VizieR-3?-source=J/ApJS/212/1/wisecat).\n",
    "\n",
    "<div class=\"alert alert-info\">\n",
    "Note: by default, `Vizier` will only return the first 50 entries, hence the number of rows being 50. We should manually lift this restriction so that we can get the full list from here on out. \n",
    "\n",
    "This can be done using\n",
    "`\n",
    "Vizier.ROW_LIMIT = -1\n",
    "`\n",
    "to lift the limit entire. Alternatively, you can set a specific larger size if you want avoid accidently downloading too much data!\n",
    "</div>\n",
    "\n",
    "Now that we know the column names we want to filter by, we can use `.query_constraints` method to get our select catalog. The column names we found above can be used as additional arguments to filter through the catalog. Here, we want to select targets with provided distance estimates (or Dist > 0.0) and targets where their classification is known (Cl = K)"
   ]
  },
  {
   "cell_type": "code",
   "execution_count": null,
   "metadata": {
    "collapsed": true
   },
   "outputs": [],
   "source": [
    "#Lift the row limit for the astroquery Vizier class\n",
    "Vizier.ROW_LIMIT = -1\n",
    "\n",
    "#Query the catalog and save the astropy Table of infomration\n",
    "hii_regions = Vizier.query_constraints(catalog = catalog_name, Cl = 'K', Dist = '>0.0')[0]\n",
    "\n",
    "hii_regions"
   ]
  },
  {
   "cell_type": "markdown",
   "metadata": {},
   "source": [
    "We now have our catalog of 828 WISE HII regions. There's a lot of information in this table that we don't necessarily need, so lets simplify our lives and delete some columns. We only need to have the name (WISE), the coordinates (GLON and GLAT), and the distance (Dist). We'll keep the velocity information as well to help compare with our WHAM spectra later as well. \n",
    "\n",
    "Each column can be referenced by using its name."
   ]
  },
  {
   "cell_type": "code",
   "execution_count": null,
   "metadata": {
    "collapsed": true
   },
   "outputs": [],
   "source": [
    "#Delete extra columns of information we don't need\n",
    "del(hii_regions[\"Cl\"], hii_regions['Rad'], hii_regions['Ref'], hii_regions['Name'], hii_regions['GLONs'], \n",
    "    hii_regions['GLATs'], hii_regions['Vm1'], hii_regions['Mol'], hii_regions['_RA.icrs'], hii_regions['_DE.icrs'])\n",
    "\n",
    "hii_regions"
   ]
  },
  {
   "cell_type": "markdown",
   "metadata": {},
   "source": [
    "astropy Tables can also store coordinates directly as an `astropy.SkyCoord` object, which can make catalog matching and converting between different coordinate frames very simple. We can add a new column with a combined coordinate entry and get rid of the two separate columns for `GLON` and `GLAT`\n",
    "\n",
    "When working with data from an astropy Table, we can also extract the data as a regular numpy array, or as an astropy Quantity, which contains unit information. This can be done using the `.quantity` method. "
   ]
  },
  {
   "cell_type": "code",
   "execution_count": null,
   "metadata": {
    "collapsed": true
   },
   "outputs": [],
   "source": [
    "#Create SkyCoord objects of the coordinates\n",
    "hii_coord = SkyCoord(hii_regions['GLON'].quantity, hii_regions['GLAT'].quantity, frame = 'galactic')\n",
    "\n",
    "#Enter the SkyCoord infomration as a new column to our Table\n",
    "hii_regions['Coord'] = hii_coord\n",
    "\n",
    "#Remove the now extraneous GLON and GLAT columns\n",
    "del(hii_regions['GLON'], hii_regions['GLAT'])\n",
    "\n",
    "hii_regions"
   ]
  },
  {
   "cell_type": "markdown",
   "metadata": {},
   "source": [
    "<div class=\"alert alert-info\">\n",
    "Note: If you wanted to convert your coordinates to ICRS RA and Dec, you can do so with one line of code:\n",
    "`\n",
    "hii_regions['Coord'].icrs\n",
    "`\n",
    "</div>\n",
    "\n",
    "# WHAM Sky Survey Map\n",
    "\n",
    "Now that we have our list of HII regions from WISE, we can take a look at our spectroscopic data from WHAM. \n",
    "\n",
    "## Download and visualize the WHAM all-sky map\n",
    "\n",
    "An integrate FITS image of this survey is available online at [http://www.astro.wisc.edu/wham/ss/wham-ss-DR1-v161116-170912-int-grid.fits](http://www.astro.wisc.edu/wham/ss/wham-ss-DR1-v161116-170912-int-grid.fits). We can download this file directly and plot it, overlaying our identified HII region positions. \n",
    "\n",
    "For ease of use - this file is also available through this tutorial directly, so we can download the file from there.\n"
   ]
  },
  {
   "cell_type": "code",
   "execution_count": null,
   "metadata": {
    "collapsed": true
   },
   "outputs": [],
   "source": [
    "'''\n",
    "# Download the wham integrated FITS image from the UW-Madison host\n",
    "\n",
    "wham_image_file = download_file(\n",
    "    'http://www.astro.wisc.edu/wham/ss/wham-ss-DR1-v161116-170912-int-grid.fits',\n",
    "    cache=True, show_progress = True)\n",
    "'''\n",
    "\n",
    "#Download the wham integrated FITS image\n",
    "wham_image_file = download_file(tutorialpath + \n",
    "                                'wham-ss-DR1-v161116-170912-int-grid.fits',\n",
    "                                cache=True, show_progress = True)"
   ]
  },
  {
   "cell_type": "code",
   "execution_count": null,
   "metadata": {
    "collapsed": true
   },
   "outputs": [],
   "source": [
    "# Open the FITS file for reading\n",
    "wham_image_hdu = fits.open(wham_image_file)\n",
    "\n",
    "# Display some basic information on the FITS image file\n",
    "wham_image_hdu.info()"
   ]
  },
  {
   "cell_type": "markdown",
   "metadata": {},
   "source": [
    "This shows us some basic info about the FITS image file. Most importantly, the 0-th element of the HDU object contains our primary image which has dimensions of (1440 x 720). We need two pieces of infomration from this file to fully visualize it - the data array and the header. We can use the header to get additional information about the data and to build a WCS object to convert pixel positions in the image to real world coordinates. Once we access the data and header, we can close the FITS file to avoid using up extra memory. "
   ]
  },
  {
   "cell_type": "code",
   "execution_count": null,
   "metadata": {
    "collapsed": true
   },
   "outputs": [],
   "source": [
    "# Access and store the data and header\n",
    "wham_image_data = wham_image_hdu[0].data\n",
    "wham_image_header = wham_image_hdu[0].header\n",
    "\n",
    "# Close the file\n",
    "wham_image_hdu.close()\n",
    "\n",
    "# Create a WCS object from the header information\n",
    "wham_image_wcs = WCS(wham_image_header)\n",
    "\n",
    "# Print out the header infomration\n",
    "wham_image_header"
   ]
  },
  {
   "cell_type": "markdown",
   "metadata": {},
   "source": [
    "FITS headers can contain a lot of useful infomration about the data you are working with, ranging for citation information, to data specific clarifications that can be vital to proper analysis. \n",
    "\n",
    "Astropy is pretty great about extracting relevent information to make visualizing this data straightforward. We will use `matplotlib` combined with `wcsaxes` to display this all-sky map and visually inspect where our select HII regions appear. \n",
    "\n",
    "This is done primarily when initializing an axis object where we can specifiy a projection using our WCS object. We'll also select a Log based colorscale using the `norm` argument in `imshow` and `LogNorm()` from `matplotlib`."
   ]
  },
  {
   "cell_type": "code",
   "execution_count": null,
   "metadata": {
    "collapsed": true
   },
   "outputs": [],
   "source": [
    "# Initiate a matplotlib figure object\n",
    "fig = plt.figure(figsize = (18,12))\n",
    "ax = fig.add_subplot(111, projection = wham_image_wcs)\n",
    "\n",
    "# Create an image object on our wcsaxis\n",
    "im = ax.imshow(wham_image_data, norm = LogNorm())\n",
    "\n",
    "# Make the coordinate grid show up in white\n",
    "ax.coords.grid(color='white')\n",
    "\n",
    "# Clip the image to the frame\n",
    "im.set_clip_path(ax.coords.frame.patch)"
   ]
  },
  {
   "cell_type": "markdown",
   "metadata": {},
   "source": [
    "Pretty good for a first attempt, but let's spice it up a little!\n",
    "\n",
    "First off, we're making a map of the entire sky - this means there are lots of distortions happening at the edges of this image. We can make this look a little nicer by changing the `frame_class` of our `wcsaxis` object to be an `EllipticalFrame` instead of the default `RectangularFrame`. This is done by adding an extra argument to the axis initiation line, something along the lines of:\n",
    "\n",
    "`\n",
    "ax = fig.add_subplot(111, projection = wham_image_wcs, frame_class = EllipticalFrame)\n",
    "`\n",
    "\n",
    "We can also change the colormap, and add some axis labels, chose a min and max intensity with `vmin` and `vmax`, and include a colorbar.\n",
    "\n",
    "We can also overplot points using `ax.scatter` by specifying a coordinate transform to convert our catalog longitude and latitude to pixel positions on the image. An example of this line would be:\n",
    "\n",
    "`\n",
    "ax.scatter(hii_regions['Coord'].l, hii_regions['Coord'].b, transform=ax.get_transform('world'))\n",
    "`\n",
    "<a id='ex1'></a>\n",
    "### Exercise 1: Make it pretty!\n",
    "Try this out as an exercise and sow how 'pretty' you can make your map!"
   ]
  },
  {
   "cell_type": "code",
   "execution_count": null,
   "metadata": {
    "collapsed": true
   },
   "outputs": [],
   "source": [
    "'''\n",
    "Temporarily have solution here for notebook testing\n",
    "'''\n",
    "\n",
    "# Initiate a matplotlib figure object\n",
    "fig = plt.figure(figsize = (18,12))\n",
    "ax = fig.add_subplot(111, projection = wham_image_wcs, frame_class = EllipticalFrame)\n",
    "\n",
    "# Create an image object on our wcsaxis\n",
    "im = ax.imshow(wham_image_data, norm = LogNorm(), cmap = 'Reds', vmin = 0.1, vmax = 100)\n",
    "\n",
    "# Make the coordinate grid show up in white\n",
    "ax.coords.grid(color='white')\n",
    "\n",
    "# Add axis labels\n",
    "ax.set_ylabel(\"Galactic Latitude (degrees)\", fontsize = 16)\n",
    "\n",
    "# Add a colorbar\n",
    "cbar = plt.colorbar(im, pad = .07, orientation = 'horizontal')\n",
    "cbar.set_label('Intensity (R)', size = 16)\n",
    "\n",
    "# Overplot points from the HII Region Catalog\n",
    "ax.scatter(hii_regions['Coord'].l, hii_regions['Coord'].b, transform=ax.get_transform('world'), \n",
    "           c = 'Blue', s = 15, alpha = .5)\n",
    "\n",
    "\n",
    "# Clip the image to the frame\n",
    "im.set_clip_path(ax.coords.frame.patch)"
   ]
  },
  {
   "cell_type": "markdown",
   "metadata": {},
   "source": [
    "Looks like most of these HII regions are confined near the Galactic Plane - not a surprise since the WISE catalog only surveys near the plane!\n",
    "\n",
    "# WHAM Kinematic Survey Data\n",
    "\n",
    "We can now take a look at a more complete version of the [WHAM Sky Survey](http://www.astro.wisc.edu/wham-site/wham-sky-survey/wham-ss) data in the form of ~50,000 individual spectra. This can give us an extra dimension of information to analyze these HII regions and the surrouding gas. \n",
    "\n",
    "## Examine the WHAM Kinematic Data\n",
    "\n",
    "The data is available as a FITS Table and can be downloaded directly from [http://www.astro.wisc.edu/wham/ss/wham-ss-DR1-v161116-170912.fits](http://www.astro.wisc.edu/wham/ss/wham-ss-DR1-v161116-170912.fits) and read in as an astropy Table. \n",
    "\n",
    "Once again for ease of use, this file is also available through this tutorial so we can download by just referring to the filename `wham-ss-DR1-v161116-170912.fits` with `tutorial_path + 'wham-ss-DR1-v161116-170912.fits'\n",
    "\n",
    "<a id='ex2'></a>\n",
    "### Exercise 2: Download the survey file to cache open it to display some info\n",
    "\n",
    "When doing this exercise - name the opened FITS file HDU as \n",
    "`\n",
    "wham_data_hdu\n",
    "`\n",
    "so that the rest of the tutorial will work properly."
   ]
  },
  {
   "cell_type": "code",
   "execution_count": null,
   "metadata": {
    "collapsed": true
   },
   "outputs": [],
   "source": [
    "'''\n",
    "Temporarily have solution here for notebook testing\n",
    "'''\n",
    "\n",
    "# Download the Kinematic Data Table\n",
    "wham_data_file = download_file(tutorial_path + \n",
    "                               'wham-ss-DR1-v161116-170912.fits',\n",
    "                               cache=True, show_progress = True)\n",
    "\n",
    "# Open the FITS file for reading\n",
    "wham_data_hdu = fits.open(wham_data_file)"
   ]
  },
  {
   "cell_type": "code",
   "execution_count": null,
   "metadata": {
    "collapsed": true
   },
   "outputs": [],
   "source": [
    "# Display some basic information on the FITS image file\n",
    "wham_data_hdu.info()"
   ]
  },
  {
   "cell_type": "markdown",
   "metadata": {},
   "source": [
    "This FITS File is a little different than the last one we dealt with. Here, we have two HDU entries. One is a BinTable - what we will read in as an astropy Table, and another just holds some other general information. Each of these HDU entries have their own headers, both are useful so let's take a closer look!"
   ]
  },
  {
   "cell_type": "code",
   "execution_count": null,
   "metadata": {
    "collapsed": true
   },
   "outputs": [],
   "source": [
    "# View the Primary Header\n",
    "wham_data_hdu[0].header"
   ]
  },
  {
   "cell_type": "code",
   "execution_count": null,
   "metadata": {
    "collapsed": true
   },
   "outputs": [],
   "source": [
    "# View the Table Header\n",
    "wham_data_hdu[1].header"
   ]
  },
  {
   "cell_type": "markdown",
   "metadata": {},
   "source": [
    "We can get some more specific information about this table through the `.columns` attribute, showing us the data format, units, and column names."
   ]
  },
  {
   "cell_type": "code",
   "execution_count": null,
   "metadata": {
    "collapsed": true
   },
   "outputs": [],
   "source": [
    "wham_data_hdu[1].columns"
   ]
  },
  {
   "cell_type": "markdown",
   "metadata": {},
   "source": [
    "Reading in this data as an astropy Table can be done with just a single line of code!"
   ]
  },
  {
   "cell_type": "code",
   "execution_count": null,
   "metadata": {
    "collapsed": true
   },
   "outputs": [],
   "source": [
    "#Read in data as a Table\n",
    "wham_data = Table(wham_data_hdu[1].data)\n",
    "\n",
    "#close the FITS file\n",
    "wham_data_hdu.close()\n",
    "\n",
    "wham_data"
   ]
  },
  {
   "cell_type": "markdown",
   "metadata": {},
   "source": [
    "Just like our queried table of HII regions from the WISE catalog, we have another astropy Table with a load of spectroscopic data from the WHAM survey looking H-Alpha emission. \n",
    "\n",
    "Unfortunately, the units of these columns didn't seem to propogate through to the Table immediately, so we can manually enter these in. Remember that the header we looked at above printed out the proper units for each column so we can lock those units into these data before we make any changes!\n",
    "\n",
    "We can also create a new column for a combined SkyCoord entry instead of individual GLON and GLAT entries like we did with the HII region catalog."
   ]
  },
  {
   "cell_type": "code",
   "execution_count": null,
   "metadata": {
    "collapsed": true
   },
   "outputs": [],
   "source": [
    "wham_data['GAL-LON'].unit = u.deg\n",
    "wham_data['GAL-LAT'].unit = u.deg\n",
    "wham_data['VELOCITY'].unit = u.km / u.s\n",
    "wham_data['DATA'].unit = u.R / (u.km / u.s)\n",
    "wham_data['VARIANCE'].unit = (u.R / (u.km / u.s))**2\n",
    "wham_data['INTEN'].unit = u.R\n",
    "wham_data['ERROR'].unit = u.R\n",
    "wham_data['OINTEN'].unit = u.R\n",
    "\n",
    "wham_data['COORD'] = SkyCoord(wham_data['GAL-LON'], wham_data['GAL-LAT'], frame = 'galactic')\n",
    "\n",
    "del(wham_data['GAL-LON'], wham_data['GAL-LAT'])"
   ]
  },
  {
   "cell_type": "code",
   "execution_count": null,
   "metadata": {
    "collapsed": true
   },
   "outputs": [],
   "source": [
    "wham_data"
   ]
  },
  {
   "cell_type": "markdown",
   "metadata": {},
   "source": [
    "Wow - 49,640 spectra is a lot! We only need a small subset of these spectra that correspond to our HII regions we selected for the WISE catalog. \n",
    "\n",
    "Notice how some columns, such as VELOCITY or DATA are actually arrays with 151 elements - astropy Tables can hold a lot of information in a very organized way!\n",
    "\n",
    "The astropy SkyCoord class allows us to easily match coordinates in catalogs using the \n",
    "`.match_to_catalog_sky()` \n",
    "method. This method can take an input SkyCoord object (either a single coordinate, or many) and match them up to a different SkyCoord array specified in the argument. \n",
    "This method returns three results: the matched catalog indices, the angular (2D) distance between the matched coordinates, and (if possible) the physical (3D) distance between the matched coordinates. \n",
    "\n",
    "<div class=\"alert alert-info\">\n",
    "Note: The 3D distance is only provided if additional information beyond an angular coordinate is included in the SkyCoord Object. This is not the case with these data, but you can read more about SkyCoord and this method [here](http://docs.astropy.org/en/stable/coordinates/matchsep.html).\n",
    "\n",
    "Since we don't need this third array fromt he result, we can just assign it to a placeholder `_` so that it doesn't use up memory.\n",
    "\n",
    "</div>\n",
    "\n",
    "We have a (relatively) small list of HII regions for which we want to find matching WHAM spectra. So we will use the WHAM kinematic data SkyCoord object in argument of the `.match_to_catalog_sky()` method acting on the HII region SkyCoord object. \n",
    "\n",
    "<div class=\"alert alert-warning\">\n",
    "Remember that you can access the SkyCoord object from the astropy Tables directly!\n",
    "</div> "
   ]
  },
  {
   "cell_type": "code",
   "execution_count": null,
   "metadata": {
    "collapsed": true
   },
   "outputs": [],
   "source": [
    "# Match our catalogs\n",
    "match_idx, match2d, _ = hii_regions['Coord'].match_to_catalog_sky(wham_data['COORD'])\n",
    "\n",
    "# Make a quick histogram of the 2D angular separations\n",
    "sep_hist = plt.hist(match2d, bins = 'auto')"
   ]
  },
  {
   "cell_type": "markdown",
   "metadata": {},
   "source": [
    "WHAM has an angular beam size of 1 degree, so our histograms confirms that our catalog has been matched well - no angular separations over ~0.5 degrees!\n",
    "\n",
    "Let's make a new Table, containing all of the information found in the `hii_regions` Table we made earlier and some select WHAM kinematic data and separations."
   ]
  },
  {
   "cell_type": "code",
   "execution_count": null,
   "metadata": {
    "collapsed": true
   },
   "outputs": [],
   "source": [
    "# Create a sub Table of the WHAM matched data\n",
    "matched_wham_data = wham_data[match_idx]\n",
    "matched_wham_data"
   ]
  },
  {
   "cell_type": "markdown",
   "metadata": {},
   "source": [
    "<div class=\"alert alert-info\">\n",
    "Note: This new Table has some duplicate rows because some of our HII regions fall within a single WHAM beam.\n",
    "\n",
    "</div>"
   ]
  },
  {
   "cell_type": "code",
   "execution_count": null,
   "metadata": {
    "collapsed": true
   },
   "outputs": [],
   "source": [
    "# Construct a new Table from the two existing Tables\n",
    "wham_hii_regions = Table(hii_regions.columns['WISE', 'Vi1', 'DV1', 'Dist', 'Coord'])\n",
    "\n",
    "# Add in WHAM data\n",
    "wham_hii_regions['WHAM_Coord'] = matched_wham_data['COORD']\n",
    "wham_hii_regions['Velocity'] = matched_wham_data['VELOCITY']\n",
    "wham_hii_regions['Data'] = matched_wham_data['DATA']\n",
    "wham_hii_regions['Variance'] = matched_wham_data['VARIANCE']\n",
    "wham_hii_regions['Intensity'] = matched_wham_data['INTEN']\n",
    "wham_hii_regions['Error'] = matched_wham_data['ERROR']\n",
    "wham_hii_regions['Offset'] = match2d\n",
    "\n",
    "# Rename the Coord column to make it more clear\n",
    "wham_hii_regions.rename_column('Coord', 'WISE_Coord')\n",
    "\n",
    "wham_hii_regions"
   ]
  },
  {
   "cell_type": "markdown",
   "metadata": {},
   "source": [
    "We now have a handy astropy Table with all the information we want about some known HII regions and observed H-Alpha emssion surrounding it. \n",
    "\n",
    "# Analyze Spectra and Calculate Results\n",
    "\n",
    "Now that our data is all organized, we can dive into to science!\n",
    "\n",
    "Astropy simplifies this process with `units` to do calculations quickly.\n",
    "\n",
    "<div class=\"alert alert-info\">\n",
    "Probably Won't use specutils actually.... at least for now...\n",
    "\n",
    "</div>\n",
    "\n",
    "In the future, the [specutils](https://specutils.readthedocs.io/en/latest/) package will make it even easier to analyze spectroscopic data! For now, we will just use as a handy wrapper to hold our data for now. \n",
    "\n",
    "In particular, we will focus on the `Spectrum1D` class from specutils, which provides a convenient framework for dealing with spectroscopic data. \n",
    "\n",
    "`Spectrum1D` asks for at least two general pieces of information: a Flux and Spectral Axis. \n",
    "For us, we will be using a velocity as our Spectral Axis, so we will also want to specify a `rest_value` so that conversions from between velocity, wavelength, and frequency can be made on the fly. \n",
    "\n",
    "We will also include uncertainties associcated with the spectra directly into the Spectrum1D object we build. \n",
    "\n",
    "## Investigate the last entry in our Table\n",
    "\n",
    "For this example, let's take a look at the last entry in our Table."
   ]
  },
  {
   "cell_type": "code",
   "execution_count": null,
   "metadata": {
    "collapsed": true
   },
   "outputs": [],
   "source": [
    "# Calculate H-Alpha rest wavelength\n",
    "BalmerAlpha = 1. / (Ryd * (1 / 2.**2 - 1 / 3.**2))\n",
    "\n",
    "# Get some infomration from the table about the last entry\n",
    "entry = -1\n",
    "wham_c = wham_hii_regions['WHAM_Coord'][entry]\n",
    "wise_c = wham_hii_regions['WISE_Coord'][entry]\n",
    "wham_intensity = wham_hii_regions['Intensity'].quantity[entry]\n",
    "wham_error = wham_hii_regions['Error'].quantity[entry]\n",
    "offset = wham_hii_regions['Offset'].quantity[entry]\n",
    "hii_region_distance = wham_hii_regions['Dist'].quantity[entry]\n",
    "\n",
    "# Create a Spectrum1D object\n",
    "spec = Spectrum1D(wham_hii_regions['Data'].quantity[entry], spectral_axis = wham_hii_regions['Velocity'].quantity[entry], \n",
    "                  uncertainty = StdDevUncertainty(np.sqrt(wham_hii_regions['Variance'].quantity[entry])), \n",
    "                  rest_value = BalmerAlpha, velocity_convention = 'optical')\n",
    "\n",
    "# Plot a quick Spectrum\n",
    "plt.plot(spec.velocity, spec.flux)"
   ]
  },
  {
   "cell_type": "markdown",
   "metadata": {},
   "source": [
    "Now that we've taken a quick look at an entry from our Table, let's think about how we can get some useful physical measurements from the WHAM spectra!\n",
    "\n",
    "Following some assumptions, such as a constant temperature of Diffuse Ionized Gas of $8000$ K, an H-Alpha intensity measured in units of Rayleighs (R or `u.R`) can be converted to an Emission Measure (EM) with the conversion scaling of $1$R is equivalent to an EM of $2.25~cm^{-6}~pc$, where\n",
    "\n",
    "$$\n",
    "EM = \\int n_e^2~dl\n",
    "$$\n",
    "\n",
    "$n_e$ is the electron density or ionized gas density, and $dl$ integrates along the line of sight. \n",
    "\n",
    "If we assume a constant/smooth distribution of ionized gas, you can convert an Emission Measure to an estimate of the column density of ionized gas following\n",
    "\n",
    "$$\n",
    "N_e = \\int n_e~dl = n_e~D = \\left( \\frac{EM}{D} \\right)^{\\frac{1}{2}}~D = EM^{\\frac{1}{2}}~D^{\\frac{1}{2}}\n",
    "$$\n",
    "\n",
    "where D is the line of sight distance.\n",
    "\n",
    "## Convert H-Alpha Intensity to HII Column Density\n",
    "\n",
    "Let's create the framework to find an HII column density along sightlines to our HII regions. \n",
    "We will need to assume that all the H-Alpha emission we have observed is from between us and the HII region and evenly distributed in order to do this. \n",
    "\n",
    "`astropy.units` allows us to do this easily and convert our final result to our desired cgs base units!"
   ]
  },
  {
   "cell_type": "code",
   "execution_count": null,
   "metadata": {
    "collapsed": true
   },
   "outputs": [],
   "source": [
    "# Function to convert H-Alpha intensity to an Emission Measure\n",
    "def ha_to_em(ha_intensity):\n",
    "    return ha_intensity * 2.25 * (u.cm)**(-6.) * u.pc / u.R\n",
    "\n",
    "# Function to convert Emission Measure and Distance to an HII Column Density\n",
    "def em_to_column_density(em, distance):\n",
    "    return np.sqrt(em * distance).decompose(u.cgs.bases)\n",
    "\n",
    "# Combined Function for H-Alpha Intensity and Distance to HII Column Dnesity\n",
    "def ha_to_column_density(ha_intensity, distance):\n",
    "    return em_to_column_density(ha_to_em(ha_intensity), distance)\n",
    "\n",
    "# Calculate for our selected Table Entry\n",
    "emission_measure = ha_to_em(wham_intensity)\n",
    "hii_column = ha_to_column_density(wham_intensity, hii_region_distance)\n",
    "\n",
    "hii_column"
   ]
  },
  {
   "cell_type": "markdown",
   "metadata": {},
   "source": [
    "<a id='ex3'></a>\n",
    "### Exercise 3: New Table Columns\n",
    "#### Add two new columns to the `wham_hii_regions` astropy Table that contains the calculated Emission Measure and HII Column Density\n",
    "\n",
    "To keep the rest of the notebook working properly, name these new columns 'EM' and 'N_HII'"
   ]
  },
  {
   "cell_type": "code",
   "execution_count": null,
   "metadata": {
    "collapsed": true
   },
   "outputs": [],
   "source": [
    "'''\n",
    "Temporary solution here for notebook testing\n",
    "'''\n",
    "# Emission Measure column\n",
    "wham_hii_regions['EM'] = ha_to_em(wham_hii_regions['Intensity'].quantity)\n",
    "\n",
    "# Column Density column\n",
    "wham_hii_regions['N_HII'] = ha_to_column_density(wham_hii_regions['Intensity'].quantity, \n",
    "                                              wham_hii_regions['Dist'].quantity)"
   ]
  },
  {
   "cell_type": "code",
   "execution_count": null,
   "metadata": {
    "collapsed": true
   },
   "outputs": [],
   "source": [
    "# Display our final Table\n",
    "wham_hii_regions"
   ]
  },
  {
   "cell_type": "markdown",
   "metadata": {},
   "source": [
    "## Save our Table to a File\n",
    "\n",
    "We have all this information - we should save it so we can easily access it again, or share it with collaborators!\n",
    "`astropy.Table` allows you to write out a Table to file in many format by specifying a `format = ''` such as \n",
    "`\n",
    "format = 'ascii'\n",
    "format = 'fits'\n",
    "format = 'hdf5'\n",
    "format = 'latex'\n",
    "`\n",
    "\n",
    "The `'latex'` option can be especially useful if you want to make a Table of data that's ready for publication. Here, let's try writing out our file as a simple ascii .txt file. We can also specify the delimiter to use for separating our columns."
   ]
  },
  {
   "cell_type": "code",
   "execution_count": null,
   "metadata": {
    "collapsed": true
   },
   "outputs": [],
   "source": [
    "# Write data to file \n",
    "wham_hii_regions.write('wham_hii_regions.txt', format = 'ascii', delimiter = '|')"
   ]
  },
  {
   "cell_type": "markdown",
   "metadata": {},
   "source": [
    "## Challenge:\n",
    "\n",
    "### Propogation of Errors\n",
    "Create new columns to our Table that properly calculate errors associated with our newly calculated Emission Measure and HII Column Density. \n",
    "\n",
    "### Write out a subset of the Table to latex\n",
    "Create a `latex` style table ready for publication with select columns from our Table. Try to format the output to be a little cleaner using the `formats={}` dictionary as an argument in the `.write()` method. You can read more documentation on this method [here](http://docs.astropy.org/en/stable/io/unified.html#built-in-readers-writers)."
   ]
  },
  {
   "cell_type": "code",
   "execution_count": null,
   "metadata": {
    "collapsed": true
   },
   "outputs": [],
   "source": []
  },
  {
   "cell_type": "code",
   "execution_count": null,
   "metadata": {
    "collapsed": true
   },
   "outputs": [],
   "source": []
  },
  {
   "cell_type": "code",
   "execution_count": null,
   "metadata": {
    "collapsed": true
   },
   "outputs": [],
   "source": []
  },
  {
   "cell_type": "code",
   "execution_count": null,
   "metadata": {
    "collapsed": true
   },
   "outputs": [],
   "source": []
  },
  {
   "cell_type": "code",
   "execution_count": null,
   "metadata": {
    "collapsed": true
   },
   "outputs": [],
   "source": []
  },
  {
   "cell_type": "code",
   "execution_count": null,
   "metadata": {
    "collapsed": true
   },
   "outputs": [],
   "source": []
  },
  {
   "cell_type": "code",
   "execution_count": null,
   "metadata": {
    "collapsed": true
   },
   "outputs": [],
   "source": []
  },
  {
   "cell_type": "code",
   "execution_count": null,
   "metadata": {
    "collapsed": true
   },
   "outputs": [],
   "source": []
  },
  {
   "cell_type": "code",
   "execution_count": null,
   "metadata": {
    "collapsed": true
   },
   "outputs": [],
   "source": []
  },
  {
   "cell_type": "code",
   "execution_count": null,
   "metadata": {
    "collapsed": true
   },
   "outputs": [],
   "source": []
  },
  {
   "cell_type": "markdown",
   "metadata": {},
   "source": [
    "# Possible Exercise Solutions\n",
    "\n",
    "## [Exercise 1:](#ex1)"
   ]
  },
  {
   "cell_type": "code",
   "execution_count": null,
   "metadata": {
    "collapsed": true
   },
   "outputs": [],
   "source": [
    "# Initiate a matplotlib figure object\n",
    "fig = plt.figure(figsize = (18,12))\n",
    "ax = fig.add_subplot(111, projection = wham_image_wcs, frame_class = EllipticalFrame)\n",
    "\n",
    "# Create an image object on our wcsaxis\n",
    "im = ax.imshow(wham_image_data, norm = LogNorm(), cmap = 'Reds', vmin = 0.1, vmax = 100)\n",
    "\n",
    "# Make the coordinate grid show up in white\n",
    "ax.coords.grid(color='white')\n",
    "\n",
    "# Add axis labels\n",
    "ax.set_ylabel(\"Galactic Latitude (degrees)\", fontsize = 16)\n",
    "\n",
    "# Add a colorbar\n",
    "cbar = plt.colorbar(im, pad = .07, orientation = 'horizontal')\n",
    "cbar.set_label('Intensity (R)', size = 16)\n",
    "\n",
    "# Overplot points from the HII Region Catalog\n",
    "ax.scatter(hii_regions['Coord'].l, hii_regions['Coord'].b, transform=ax.get_transform('world'), \n",
    "           c = 'Blue', s = 15, alpha = .5)\n",
    "\n",
    "\n",
    "# Clip the image to the frame\n",
    "im.set_clip_path(ax.coords.frame.patch)"
   ]
  },
  {
   "cell_type": "markdown",
   "metadata": {},
   "source": [
    "## [Exercise 2:](#ex2)"
   ]
  },
  {
   "cell_type": "code",
   "execution_count": null,
   "metadata": {
    "collapsed": true
   },
   "outputs": [],
   "source": [
    "# Download the Kinematic Data Table\n",
    "wham_data_file = download_file(tutorial_path + \n",
    "                               'wham-ss-DR1-v161116-170912.fits',\n",
    "                               cache=True, show_progress = True)\n",
    "\n",
    "# Open the FITS file for reading\n",
    "wham_data_hdu = fits.open(wham_data_file)"
   ]
  },
  {
   "cell_type": "markdown",
   "metadata": {},
   "source": [
    "## [Exercise 3:](#ex3)"
   ]
  },
  {
   "cell_type": "code",
   "execution_count": null,
   "metadata": {
    "collapsed": true
   },
   "outputs": [],
   "source": [
    "# Emission Measure column\n",
    "wham_hii_regions['EM'] = ha_to_em(wham_hii_regions['Intensity'].quantity)\n",
    "\n",
    "# Column Density column\n",
    "wham_hii_regions['N_HII'] = ha_to_column_density(wham_hii_regions['Intensity'].quantity, \n",
    "                                              wham_hii_regions['Dist'].quantity)"
   ]
  },
  {
   "cell_type": "code",
   "execution_count": null,
   "metadata": {
    "collapsed": true
   },
   "outputs": [],
   "source": []
  },
  {
   "cell_type": "code",
   "execution_count": null,
   "metadata": {
    "collapsed": true
   },
   "outputs": [],
   "source": []
  }
 ],
 "metadata": {
  "kernelspec": {
   "display_name": "Python 3",
   "language": "python",
   "name": "python3"
  },
  "language_info": {
   "codemirror_mode": {
    "name": "ipython",
    "version": 3
   },
   "file_extension": ".py",
   "mimetype": "text/x-python",
   "name": "python",
   "nbconvert_exporter": "python",
   "pygments_lexer": "ipython3",
   "version": "3.6.2"
  }
 },
 "nbformat": 4,
 "nbformat_minor": 2
}
